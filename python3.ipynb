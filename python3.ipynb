{
  "nbformat": 4,
  "nbformat_minor": 0,
  "metadata": {
    "colab": {
      "provenance": [],
      "authorship_tag": "ABX9TyOdL7tcjwng92i4Xtl7821y",
      "include_colab_link": true
    },
    "kernelspec": {
      "name": "python3",
      "display_name": "Python 3"
    },
    "language_info": {
      "name": "python"
    }
  },
  "cells": [
    {
      "cell_type": "markdown",
      "metadata": {
        "id": "view-in-github",
        "colab_type": "text"
      },
      "source": [
        "<a href=\"https://colab.research.google.com/github/jasen8651/spring011/blob/master/python3.ipynb\" target=\"_parent\"><img src=\"https://colab.research.google.com/assets/colab-badge.svg\" alt=\"Open In Colab\"/></a>"
      ]
    },
    {
      "cell_type": "code",
      "execution_count": 6,
      "metadata": {
        "colab": {
          "base_uri": "https://localhost:8080/"
        },
        "id": "fQs4lI5RZLYE",
        "outputId": "5df3d97b-aec2-4bf2-f9e7-e156f70ee80f"
      },
      "outputs": [
        {
          "output_type": "stream",
          "name": "stdout",
          "text": [
            "[[[ 0  1  2  3]\n",
            "  [ 4  5  6  7]\n",
            "  [ 8  9 10 11]]\n",
            "\n",
            " [[12 13 14 15]\n",
            "  [16 17 18 19]\n",
            "  [20 21 22 23]]]\n"
          ]
        },
        {
          "output_type": "execute_result",
          "data": {
            "text/plain": [
              "array([[0, 1, 2, 3]])"
            ]
          },
          "metadata": {},
          "execution_count": 6
        }
      ],
      "source": [
        "#3차원 이상에서 차원 구분법\n",
        "import numpy as np\n",
        "#print하면 array글자는 안보인다. 공백이 그대로 보인다. -> 차원구분가능\n",
        "b = np.arange(24).reshape(2,3,4)\n",
        "print(b)\n",
        "\n",
        "b[1,2]\n",
        "\n",
        "b[0,1]\n",
        "\n",
        "b[0,1,3]\n",
        "\n",
        "b[0]\n",
        "\n",
        "b[[0],:,:]\n",
        "#b의 0번째 공간 1번재 행 미만, 열 전체\n",
        "b[0,:1,:]\n",
        "\n",
        "#ellipsis 모든것을 의미\n",
        "b[0,:1,:]"
      ]
    },
    {
      "cell_type": "code",
      "source": [
        "\n",
        "#ellipsis 모든것을 의미\n",
        "b[0,...] \n",
        "b[0,:,:] \n",
        "\n",
        "b[0, : , 1]\n",
        "b[0,...]\n",
        "\n",
        "\n",
        "\n",
        "b = np.arange(24).reshape(2,3,4)\n",
        "print(b)\n",
        "b[0,:,[1,3]]\n",
        "\n",
        "#숫자 4,5,6,7,,16,17,18,19 가져오기\n",
        "b[:,1:2,:]\n",
        "print(\"----------------\")\n",
        "#3,7,11,15,1923\n",
        "b[:,:,3:4]\n",
        "b[:,:,-1]\n",
        "b[:,:,[3]]\n",
        "\n",
        "print(\"----------------\")\n"
      ],
      "metadata": {
        "id": "JReEnH-4cmG1"
      },
      "execution_count": null,
      "outputs": []
    },
    {
      "cell_type": "code",
      "source": [
        "np.arange(100000)\n",
        "# ...: 데이터 수가 많아 단순히 줄임 표현// ellipsis : 전체\n",
        "\n",
        "np.set_printoptions(edgeitems=6)\n",
        "np.arange(100000)\n",
        "\n",
        "a =np.arange(12).reshape(3,4)\n",
        "a\n",
        "a.shape\n",
        "\n",
        "b =np.arange(1,13).reshape(3,4)\n",
        "b\n",
        "b.shape\n",
        "\n",
        "a +b \n",
        "\n",
        "#numpy는 elementwise로 vectorize(데이터의 연산을 일괄적으로 처리 가능)로 연산을 한다.\n",
        "\n",
        "# 파이썬에서 list에서 +는 list를 확장시킴\n",
        "#[1,2,3]+[4,5]\n",
        "\n",
        "@np.vectorize\n",
        "def plus(a,b):\n",
        "  return a+b\n",
        "plus([1,2,3],[4,5,6])"
      ],
      "metadata": {
        "colab": {
          "base_uri": "https://localhost:8080/"
        },
        "id": "ONM5KeH7aOF1",
        "outputId": "b766c9f4-ed71-403c-9cd2-9d569f405ee3"
      },
      "execution_count": 34,
      "outputs": [
        {
          "output_type": "execute_result",
          "data": {
            "text/plain": [
              "array([5, 7, 9])"
            ]
          },
          "metadata": {},
          "execution_count": 34
        }
      ]
    },
    {
      "cell_type": "code",
      "source": [
        "@np.vectorize\n",
        "def plus(a,b):\n",
        "  return a+b\n",
        "plus([1,2,3],[4,5,6]) #elementwise vectroize\n",
        "\n",
        "# *\n",
        "type(np.array(3))\n",
        "c = np.matrix([[1,2],[3,4]])\n",
        "c\n",
        "type(c)\n",
        "\n",
        "#np에서는 ndarray이외에 matrix라는 자료형 존재, 곱하기를 뜻함\n",
        "c*c #행열곱\n",
        "#ndarray : 행렬곱 연산자 @이다. \n",
        "a.shape\n",
        "\n",
        "#a @ b\n",
        "#행렬곱을 하기위해서 shape가 맞아야함\n"
      ],
      "metadata": {
        "colab": {
          "base_uri": "https://localhost:8080/"
        },
        "id": "1ePxy2F1cTSO",
        "outputId": "87b54d51-77bd-465e-e98d-06b43577061c"
      },
      "execution_count": 46,
      "outputs": [
        {
          "output_type": "execute_result",
          "data": {
            "text/plain": [
              "(3, 4)"
            ]
          },
          "metadata": {},
          "execution_count": 46
        }
      ]
    },
    {
      "cell_type": "code",
      "source": [
        "b.shape\n"
      ],
      "metadata": {
        "colab": {
          "base_uri": "https://localhost:8080/"
        },
        "id": "sZr4kau3fcGG",
        "outputId": "31067340-9003-4159-9d6b-28da93bbac8b"
      },
      "execution_count": 47,
      "outputs": [
        {
          "output_type": "execute_result",
          "data": {
            "text/plain": [
              "(3, 4)"
            ]
          },
          "metadata": {},
          "execution_count": 47
        }
      ]
    },
    {
      "cell_type": "code",
      "source": [
        "a\n",
        "\n",
        "a.T"
      ],
      "metadata": {
        "colab": {
          "base_uri": "https://localhost:8080/"
        },
        "id": "K17DMz-rfi1d",
        "outputId": "418728f8-acdc-44fc-d210-9f98e92d8bee"
      },
      "execution_count": 49,
      "outputs": [
        {
          "output_type": "execute_result",
          "data": {
            "text/plain": [
              "array([[ 0,  4,  8],\n",
              "       [ 1,  5,  9],\n",
              "       [ 2,  6, 10],\n",
              "       [ 3,  7, 11]])"
            ]
          },
          "metadata": {},
          "execution_count": 49
        }
      ]
    },
    {
      "cell_type": "code",
      "source": [
        "a @ a.T"
      ],
      "metadata": {
        "colab": {
          "base_uri": "https://localhost:8080/"
        },
        "id": "xOZ6PBXffnuG",
        "outputId": "fbc039d5-16bf-4623-84d4-691240f28b09"
      },
      "execution_count": 51,
      "outputs": [
        {
          "output_type": "execute_result",
          "data": {
            "text/plain": [
              "array([[ 14,  38,  62],\n",
              "       [ 38, 126, 214],\n",
              "       [ 62, 214, 366]])"
            ]
          },
          "metadata": {},
          "execution_count": 51
        }
      ]
    },
    {
      "cell_type": "code",
      "source": [
        "np.dot(a, a.T)\n",
        "a.dot(a.T)"
      ],
      "metadata": {
        "colab": {
          "base_uri": "https://localhost:8080/"
        },
        "id": "KwehZLubiGkg",
        "outputId": "92b672f7-3b39-4dca-89c7-81faa209be90"
      },
      "execution_count": 58,
      "outputs": [
        {
          "output_type": "execute_result",
          "data": {
            "text/plain": [
              "array([[ 14,  38,  62],\n",
              "       [ 38, 126, 214],\n",
              "       [ 62, 214, 366]])"
            ]
          },
          "metadata": {},
          "execution_count": 58
        }
      ]
    },
    {
      "cell_type": "code",
      "source": [
        "#broadcasting : 파이썬 배열과 숫자간의 연산 가능 , 모양이 안맞아도 특정한 조건에 맞으면 모양을 같게 만들어 연사하는 기능\n",
        "# 안되는 경우 : \n",
        "#a + np.array([3,4])\n",
        "\n",
        "a + np.array([[1],[2]])"
      ],
      "metadata": {
        "id": "DCOBjYekiKkO"
      },
      "execution_count": null,
      "outputs": []
    },
    {
      "cell_type": "code",
      "source": [
        "# stries : 다음 원소끼리 메모리 크기를 차원별로 알려준다,., c의 포인터개념을 알고있으면 이해 쉬움\n",
        "a.strides\n",
        "a.dtype\n",
        "#행의 메모리 간격은 32바이트 \n",
        "#열의 메모리 간격은 4바이트\n",
        "#열의 원소 갯수 * itemsize = 행의 메모리 간격\n",
        "#itemsize = 열의 메모리 간격\n",
        "a.shape\n",
        "\n",
        "\n",
        "#axis : 디차원 배열을 연산할때 기준이되는 축이다. \n",
        "a\n",
        "np.sum(a)#2는 2차원 배열이므로 axis는 0은 행기준\n",
        "np.sum(a, axis=0)\n",
        "\n",
        "#3차원에서도 사용가능\n",
        "a = np.arange(24).reshape(2,3,4)\n",
        "np.sum(a, axis =0)# 공간마다가준\n",
        "\n",
        "np.sum(a, axis=1)\n",
        "\n",
        "#a.sum(axis=2)\n",
        "a.sum(axis=2) #열기준\n",
        "#3차원은 행렬에 공간 개념이 추가\n",
        "#2차원(axis=0, axis=1)(행,열)\n",
        "#3차원(axis=0, axis=1, axis=2)(공간,행,열)\n",
        "\n",
        "#array모양 바꾸기\n",
        "#reshape : 차원을 바꿔주는 기능을 하낟.\n",
        "a = np.arange(24).reshape(3,8) # \n",
        "a\n",
        "b = a.reshape(3,8)\n",
        "a #reshape수행후 원래의 값은 그대로 있다,\n",
        "\n",
        "a.reshape(2,3, 4)\n",
        "#a.reshape(2,3, 5)# 맞지 않음\n",
        "\n",
        "a.reshape(2,3, -1 )\n",
        "\n",
        "#a.reshape(3,5, -1) :\n",
        "\n",
        "# 음수 2개를 사용 불가\n",
        "#a.reshape(3,-1, -1)\n",
        "\n",
        "#2차원\n",
        "a = np.arange(6).reshape(2,3)\n",
        "a\n",
        "\n",
        "#3차원\n",
        "a = np.arange(6).reshape(2,3,1)\n",
        "a\n",
        "\n",
        "\n",
        "# size 원소의 갯수 \n",
        "a = np.arange(24)\n",
        "print(a.size)\n",
        "\n",
        "np.resize(a,(2,3,1))\n",
        "#빈공간은 0으로 채워줌\n",
        "b=np.arange(24)\n",
        "b.resize((2,3,8))\n",
        "b\n",
        "\n",
        "\n",
        "\n"
      ],
      "metadata": {
        "colab": {
          "base_uri": "https://localhost:8080/",
          "height": 248
        },
        "id": "4BfD-935nh5N",
        "outputId": "d6a4a37a-84aa-4491-826f-b87785b03955"
      },
      "execution_count": 4,
      "outputs": [
        {
          "output_type": "error",
          "ename": "NameError",
          "evalue": "ignored",
          "traceback": [
            "\u001b[0;31m---------------------------------------------------------------------------\u001b[0m",
            "\u001b[0;31mNameError\u001b[0m                                 Traceback (most recent call last)",
            "\u001b[0;32m<ipython-input-4-240c60a5ab76>\u001b[0m in \u001b[0;36m<module>\u001b[0;34m\u001b[0m\n\u001b[1;32m      1\u001b[0m \u001b[0;31m# stries : 다음 원소끼리 메모리 크기를 차원별로 알려준다,., c의 포인터개념을 알고있으면 이해 쉬움\u001b[0m\u001b[0;34m\u001b[0m\u001b[0;34m\u001b[0m\u001b[0;34m\u001b[0m\u001b[0m\n\u001b[0;32m----> 2\u001b[0;31m \u001b[0ma\u001b[0m\u001b[0;34m.\u001b[0m\u001b[0mstrides\u001b[0m\u001b[0;34m\u001b[0m\u001b[0;34m\u001b[0m\u001b[0m\n\u001b[0m\u001b[1;32m      3\u001b[0m \u001b[0ma\u001b[0m\u001b[0;34m.\u001b[0m\u001b[0mdtype\u001b[0m\u001b[0;34m\u001b[0m\u001b[0;34m\u001b[0m\u001b[0m\n\u001b[1;32m      4\u001b[0m \u001b[0;31m#행의 메모리 간격은 32바이트\u001b[0m\u001b[0;34m\u001b[0m\u001b[0;34m\u001b[0m\u001b[0;34m\u001b[0m\u001b[0m\n\u001b[1;32m      5\u001b[0m \u001b[0;31m#열의 메모리 간격은 4바이트\u001b[0m\u001b[0;34m\u001b[0m\u001b[0;34m\u001b[0m\u001b[0;34m\u001b[0m\u001b[0m\n",
            "\u001b[0;31mNameError\u001b[0m: name 'a' is not defined"
          ]
        }
      ]
    },
    {
      "cell_type": "code",
      "source": [
        "#배열 쪼개기\n",
        "a = np.arange(24)\n",
        "a= np.split(a, 2, axis=0)\n",
        "a\n",
        "\n"
      ],
      "metadata": {
        "colab": {
          "base_uri": "https://localhost:8080/"
        },
        "id": "n0UL-1pSD8qV",
        "outputId": "d1a1b371-8b32-4d12-aed7-afcee004ce45"
      },
      "execution_count": 12,
      "outputs": [
        {
          "output_type": "execute_result",
          "data": {
            "text/plain": [
              "[array([ 0,  1,  2,  3,  4,  5,  6,  7,  8,  9, 10, 11]),\n",
              " array([12, 13, 14, 15, 16, 17, 18, 19, 20, 21, 22, 23])]"
            ]
          },
          "metadata": {},
          "execution_count": 12
        }
      ]
    },
    {
      "cell_type": "code",
      "source": [
        "print(type(a))\n",
        "print(type(a[0]))\n",
        "\n",
        "b = np.arange(24)\n",
        "b= np.split(b, 2)\n",
        "b\n"
      ],
      "metadata": {
        "colab": {
          "base_uri": "https://localhost:8080/"
        },
        "id": "_pZNqQktEME9",
        "outputId": "6a957032-d8f9-4f43-a144-f7c39aadc0e4"
      },
      "execution_count": 14,
      "outputs": [
        {
          "output_type": "stream",
          "name": "stdout",
          "text": [
            "<class 'list'>\n",
            "<class 'numpy.ndarray'>\n"
          ]
        },
        {
          "output_type": "execute_result",
          "data": {
            "text/plain": [
              "[array([ 0,  1,  2,  3,  4,  5,  6,  7,  8,  9, 10, 11]),\n",
              " array([12, 13, 14, 15, 16, 17, 18, 19, 20, 21, 22, 23])]"
            ]
          },
          "metadata": {},
          "execution_count": 14
        }
      ]
    },
    {
      "cell_type": "code",
      "source": [
        "print(type(b))\n",
        "print(type(b[1]))\n",
        "print(b[1])\n",
        "print(b[1][2])\n"
      ],
      "metadata": {
        "colab": {
          "base_uri": "https://localhost:8080/"
        },
        "id": "tvkmr3DME1lm",
        "outputId": "14d295de-ca73-458d-f0aa-b63bfe4e7d41"
      },
      "execution_count": 18,
      "outputs": [
        {
          "output_type": "stream",
          "name": "stdout",
          "text": [
            "<class 'list'>\n",
            "<class 'numpy.ndarray'>\n",
            "[12 13 14 15 16 17 18 19 20 21 22 23]\n",
            "14\n"
          ]
        }
      ]
    },
    {
      "cell_type": "code",
      "source": [
        "c = np.array(b)\n",
        "c\n",
        "print(type(c))\n",
        "print(c)\n",
        "print(c[1,2])"
      ],
      "metadata": {
        "colab": {
          "base_uri": "https://localhost:8080/"
        },
        "id": "N0DEthoAFUae",
        "outputId": "7a091532-58d6-41aa-872f-7a6cfacb6c12"
      },
      "execution_count": 22,
      "outputs": [
        {
          "output_type": "stream",
          "name": "stdout",
          "text": [
            "<class 'numpy.ndarray'>\n",
            "[[ 0  1  2  3  4  5  6  7  8  9 10 11]\n",
            " [12 13 14 15 16 17 18 19 20 21 22 23]]\n",
            "14\n"
          ]
        }
      ]
    },
    {
      "cell_type": "code",
      "source": [
        "#split은 axis파라미터가 있다. default =axis=0\n",
        "a = np.arange(24)\n",
        "b =a.reshape(4,6)\n",
        "print(b)\n",
        "\n"
      ],
      "metadata": {
        "colab": {
          "base_uri": "https://localhost:8080/"
        },
        "id": "sdTjgekOFxw9",
        "outputId": "7ca344da-992e-413a-b713-e90a9427f944"
      },
      "execution_count": 23,
      "outputs": [
        {
          "output_type": "stream",
          "name": "stdout",
          "text": [
            "[[ 0  1  2  3  4  5]\n",
            " [ 6  7  8  9 10 11]\n",
            " [12 13 14 15 16 17]\n",
            " [18 19 20 21 22 23]]\n"
          ]
        }
      ]
    },
    {
      "cell_type": "code",
      "source": [
        "np.split(b,2, axis=0)"
      ],
      "metadata": {
        "colab": {
          "base_uri": "https://localhost:8080/"
        },
        "id": "m1ypIbLLF_Ut",
        "outputId": "c2c037dd-fc4f-4645-cb17-a5c275c5bae8"
      },
      "execution_count": 24,
      "outputs": [
        {
          "output_type": "execute_result",
          "data": {
            "text/plain": [
              "[array([[ 0,  1,  2,  3,  4,  5],\n",
              "        [ 6,  7,  8,  9, 10, 11]]), array([[12, 13, 14, 15, 16, 17],\n",
              "        [18, 19, 20, 21, 22, 23]])]"
            ]
          },
          "metadata": {},
          "execution_count": 24
        }
      ]
    },
    {
      "cell_type": "code",
      "source": [
        "np.split(b,2, axis=1)\n",
        "\n",
        "np.hsplit(a,2)\n",
        "np.vsplit(b,2) #수직\n",
        "\n",
        "np.hsplit(b,2)#수평"
      ],
      "metadata": {
        "colab": {
          "base_uri": "https://localhost:8080/"
        },
        "id": "NTTTlqxhGUg1",
        "outputId": "b6494bc5-3da6-40b9-c8af-69d260b26d9b"
      },
      "execution_count": 28,
      "outputs": [
        {
          "output_type": "execute_result",
          "data": {
            "text/plain": [
              "[array([[ 0,  1,  2],\n",
              "        [ 6,  7,  8],\n",
              "        [12, 13, 14],\n",
              "        [18, 19, 20]]), array([[ 3,  4,  5],\n",
              "        [ 9, 10, 11],\n",
              "        [15, 16, 17],\n",
              "        [21, 22, 23]])]"
            ]
          },
          "metadata": {},
          "execution_count": 28
        }
      ]
    },
    {
      "cell_type": "code",
      "source": [
        "#indices_or_sections : split 시리즈 함수들의 2번쩨 파라미터 이름이 indices_or_sections이다, 숫자를 묶어 넣으면 구간으로 쪼개진다.\n",
        "a = np.arange(24)\n",
        "a\n",
        "#처럼부터 ~2미만 : [0,1]\n",
        "#2부터 3미만 [2]\n",
        "#3부터 끝까지 [3,4,5...]\n",
        "np.hsplit(a,(2,3))\n"
      ],
      "metadata": {
        "colab": {
          "base_uri": "https://localhost:8080/"
        },
        "id": "oTS_eV5KLAL_",
        "outputId": "45591189-41ef-4321-89bf-3ca0e87c649a"
      },
      "execution_count": 33,
      "outputs": [
        {
          "output_type": "execute_result",
          "data": {
            "text/plain": [
              "[array([0, 1]),\n",
              " array([2]),\n",
              " array([ 3,  4,  5,  6,  7,  8,  9, 10, 11, 12, 13, 14, 15, 16, 17, 18, 19,\n",
              "        20, 21, 22, 23])]"
            ]
          },
          "metadata": {},
          "execution_count": 33
        }
      ]
    },
    {
      "cell_type": "code",
      "source": [
        "#3부터 8미만까지 [3,4,5,6,7]\n",
        "#8부터 끝까지[8,9,10...]\n",
        "np.hsplit(a,(2,3,8))"
      ],
      "metadata": {
        "colab": {
          "base_uri": "https://localhost:8080/"
        },
        "id": "zBdfHTQLLtse",
        "outputId": "146075d7-921d-494c-ac34-eecffa64b93b"
      },
      "execution_count": 34,
      "outputs": [
        {
          "output_type": "execute_result",
          "data": {
            "text/plain": [
              "[array([0, 1]),\n",
              " array([2]),\n",
              " array([3, 4, 5, 6, 7]),\n",
              " array([ 8,  9, 10, 11, 12, 13, 14, 15, 16, 17, 18, 19, 20, 21, 22, 23])]"
            ]
          },
          "metadata": {},
          "execution_count": 34
        }
      ]
    },
    {
      "cell_type": "code",
      "source": [
        "#배열 합치기\n",
        "a = np.arange(24)\n",
        "x,y,z = np.split(a,3)\n",
        "\n",
        "print(x)\n",
        "print(y)\n",
        "print(z)\n",
        "\n",
        "#hstack : 수평 합치기 \n",
        "np.hstack((x,y))\n",
        "#vstack : 세로 합치기\n",
        "np.vstack((x,y))\n",
        "\n",
        "\n",
        "#DSTACK : 합쳐서 3차원으로 만들어줌 \n",
        "print(x)\n",
        "print(y)\n",
        "\n"
      ],
      "metadata": {
        "colab": {
          "base_uri": "https://localhost:8080/"
        },
        "id": "WJzsLScHMdTQ",
        "outputId": "1b3c22ce-6129-4c94-c6fd-880514b73d43"
      },
      "execution_count": 38,
      "outputs": [
        {
          "output_type": "stream",
          "name": "stdout",
          "text": [
            "[0 1 2 3 4 5 6 7]\n",
            "[ 8  9 10 11 12 13 14 15]\n",
            "[16 17 18 19 20 21 22 23]\n",
            "[0 1 2 3 4 5 6 7]\n",
            "[ 8  9 10 11 12 13 14 15]\n"
          ]
        }
      ]
    },
    {
      "cell_type": "code",
      "source": [
        "c =np.dstack((x,y)) # (1,8,2)\n",
        "c\n",
        "\n",
        "c.shape\n",
        "\n",
        "#contcatnate asis반향에 그대로 합칩\n",
        "a = np.arange(12).reshape(3,4)\n",
        "x,y =np.split(a,2, axis=1)\n",
        "\n",
        "print(x)\n",
        "print(y)"
      ],
      "metadata": {
        "colab": {
          "base_uri": "https://localhost:8080/"
        },
        "id": "2UT2Hh96RaSv",
        "outputId": "6b2bef6a-f9e4-4242-d6c6-825c119b3d50"
      },
      "execution_count": 42,
      "outputs": [
        {
          "output_type": "stream",
          "name": "stdout",
          "text": [
            "[[0 1]\n",
            " [4 5]\n",
            " [8 9]]\n",
            "[[ 2  3]\n",
            " [ 6  7]\n",
            " [10 11]]\n"
          ]
        }
      ]
    },
    {
      "cell_type": "code",
      "source": [
        "#차원확장\n",
        "#1차원             #2차원\n",
        "a = np.arange(12).reshape(3,4)\n",
        "a\n",
        "#3차원으로 확장, 튜플에서 원소가 1개만 있으면 차원만 확장\n",
        "np.stack((a,))\n",
        "\n",
        "#newaxis : 인덱싱할떼 사용하면 차원을 늘릴수있다.\n",
        "a[np.newaxis].shape\n",
        "\n",
        "a[:,np.newaxis,:]\n",
        "\n",
        "a[:,:,np.newaxis]"
      ],
      "metadata": {
        "colab": {
          "base_uri": "https://localhost:8080/"
        },
        "id": "WKv2OoOnT1CH",
        "outputId": "b317b4b9-358d-4afc-9e2c-c8f0f1db6a76"
      },
      "execution_count": 51,
      "outputs": [
        {
          "output_type": "execute_result",
          "data": {
            "text/plain": [
              "array([[[ 0],\n",
              "        [ 1],\n",
              "        [ 2],\n",
              "        [ 3]],\n",
              "\n",
              "       [[ 4],\n",
              "        [ 5],\n",
              "        [ 6],\n",
              "        [ 7]],\n",
              "\n",
              "       [[ 8],\n",
              "        [ 9],\n",
              "        [10],\n",
              "        [11]]])"
            ]
          },
          "metadata": {},
          "execution_count": 51
        }
      ]
    },
    {
      "cell_type": "code",
      "source": [
        "a[:,:,np.newaxis].shape\n",
        "\n",
        "#newaxis대신에 none을 사용해도 됨 none는 직곽전이지 않고 ㅎ헤갈려서 np.newaxis를 만금\n",
        "\n",
        "np.expand_dims(a,0)\n",
        "\n",
        "a[np.newaxis,:,:]\n",
        "\n",
        "np.expand_dims(a, 1)\n",
        "np.expand_dims(a,2)\n",
        "\n",
        "#array 한줄 펴기\n",
        "a = np.arange(12).reshape(3,4)\n",
        "a\n",
        "#flatten():는 결과를 리턴하고 메모리의 값은 변경되지 않는다.\n",
        "b =a.flatten()\n",
        "b\n",
        "#서로 차원교환\n",
        "np.swapaxes\n",
        "\n",
        "a= np.array([[1],[2]])\n",
        "a\n",
        "# a의 0번 차원과 1번 차원을 서로 바꿈\n",
        "a.reshape\n",
        "b =np.swapaxes(a,1,0)\n",
        "b\n"
      ],
      "metadata": {
        "colab": {
          "base_uri": "https://localhost:8080/"
        },
        "id": "KDPNqwwjV1TW",
        "outputId": "c81f666e-1839-4e98-b9a8-9ee22af23cb1"
      },
      "execution_count": 63,
      "outputs": [
        {
          "output_type": "execute_result",
          "data": {
            "text/plain": [
              "array([[1, 2]])"
            ]
          },
          "metadata": {},
          "execution_count": 63
        }
      ]
    }
  ]
}